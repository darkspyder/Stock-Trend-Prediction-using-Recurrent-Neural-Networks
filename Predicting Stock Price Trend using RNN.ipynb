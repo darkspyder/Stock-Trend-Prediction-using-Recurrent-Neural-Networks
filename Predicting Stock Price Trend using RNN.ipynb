{
 "cells": [
  {
   "cell_type": "code",
   "execution_count": 199,
   "metadata": {},
   "outputs": [],
   "source": [
    "import numpy as np\n",
    "import pandas as pd\n",
    "import seaborn as sns\n",
    "import matplotlib.pyplot as plt\n",
    "from nsepy import get_history\n",
    "%matplotlib inline\n",
    "from datetime import date, timedelta, datetime"
   ]
  },
  {
   "cell_type": "code",
   "execution_count": 200,
   "metadata": {},
   "outputs": [],
   "source": [
    "# Initialising the number of years of training data to be downloaded from NSE\n",
    "training_no_of_years = 10\n",
    "# Initialising start and end dates for stock data download\n",
    "start_date = date.today() - timedelta(days = 365*training_no_of_years + training_no_of_years//4) #adjusting no of days for leap years in between\n",
    "end_date = date.today()"
   ]
  },
  {
   "cell_type": "code",
   "execution_count": 201,
   "metadata": {},
   "outputs": [],
   "source": [
    "# Stock selected is State Bank of India (NSE: SBIN), the largest bank in India and one of the most liquid stocks\n",
    "stockdf = get_history(symbol = 'SBIN', start = start_date, end = end_date)"
   ]
  },
  {
   "cell_type": "code",
   "execution_count": 202,
   "metadata": {},
   "outputs": [],
   "source": [
    "stockdf = stockdf.drop(['Trades', 'Turnover'], axis=1)"
   ]
  },
  {
   "cell_type": "code",
   "execution_count": 203,
   "metadata": {},
   "outputs": [
    {
     "data": {
      "text/html": [
       "<div>\n",
       "<style scoped>\n",
       "    .dataframe tbody tr th:only-of-type {\n",
       "        vertical-align: middle;\n",
       "    }\n",
       "\n",
       "    .dataframe tbody tr th {\n",
       "        vertical-align: top;\n",
       "    }\n",
       "\n",
       "    .dataframe thead th {\n",
       "        text-align: right;\n",
       "    }\n",
       "</style>\n",
       "<table border=\"1\" class=\"dataframe\">\n",
       "  <thead>\n",
       "    <tr style=\"text-align: right;\">\n",
       "      <th></th>\n",
       "      <th>Symbol</th>\n",
       "      <th>Series</th>\n",
       "      <th>Prev Close</th>\n",
       "      <th>Open</th>\n",
       "      <th>High</th>\n",
       "      <th>Low</th>\n",
       "      <th>Last</th>\n",
       "      <th>Close</th>\n",
       "      <th>VWAP</th>\n",
       "      <th>Volume</th>\n",
       "      <th>Deliverable Volume</th>\n",
       "      <th>%Deliverble</th>\n",
       "    </tr>\n",
       "    <tr>\n",
       "      <th>Date</th>\n",
       "      <th></th>\n",
       "      <th></th>\n",
       "      <th></th>\n",
       "      <th></th>\n",
       "      <th></th>\n",
       "      <th></th>\n",
       "      <th></th>\n",
       "      <th></th>\n",
       "      <th></th>\n",
       "      <th></th>\n",
       "      <th></th>\n",
       "      <th></th>\n",
       "    </tr>\n",
       "  </thead>\n",
       "  <tbody>\n",
       "    <tr>\n",
       "      <th>2009-11-18</th>\n",
       "      <td>SBIN</td>\n",
       "      <td>EQ</td>\n",
       "      <td>2350.75</td>\n",
       "      <td>2347.6</td>\n",
       "      <td>2358.95</td>\n",
       "      <td>2315.00</td>\n",
       "      <td>2325.0</td>\n",
       "      <td>2327.80</td>\n",
       "      <td>2338.23</td>\n",
       "      <td>1466296</td>\n",
       "      <td>335156</td>\n",
       "      <td>0.2286</td>\n",
       "    </tr>\n",
       "    <tr>\n",
       "      <th>2009-11-19</th>\n",
       "      <td>SBIN</td>\n",
       "      <td>EQ</td>\n",
       "      <td>2327.80</td>\n",
       "      <td>2329.0</td>\n",
       "      <td>2329.10</td>\n",
       "      <td>2270.05</td>\n",
       "      <td>2280.0</td>\n",
       "      <td>2281.35</td>\n",
       "      <td>2297.54</td>\n",
       "      <td>1690159</td>\n",
       "      <td>512171</td>\n",
       "      <td>0.3030</td>\n",
       "    </tr>\n",
       "    <tr>\n",
       "      <th>2009-11-20</th>\n",
       "      <td>SBIN</td>\n",
       "      <td>EQ</td>\n",
       "      <td>2281.35</td>\n",
       "      <td>2281.0</td>\n",
       "      <td>2346.00</td>\n",
       "      <td>2241.00</td>\n",
       "      <td>2339.0</td>\n",
       "      <td>2334.95</td>\n",
       "      <td>2288.01</td>\n",
       "      <td>2676013</td>\n",
       "      <td>884423</td>\n",
       "      <td>0.3305</td>\n",
       "    </tr>\n",
       "  </tbody>\n",
       "</table>\n",
       "</div>"
      ],
      "text/plain": [
       "           Symbol Series  Prev Close  ...   Volume  Deliverable Volume  %Deliverble\n",
       "Date                                  ...                                          \n",
       "2009-11-18   SBIN     EQ     2350.75  ...  1466296              335156       0.2286\n",
       "2009-11-19   SBIN     EQ     2327.80  ...  1690159              512171       0.3030\n",
       "2009-11-20   SBIN     EQ     2281.35  ...  2676013              884423       0.3305\n",
       "\n",
       "[3 rows x 12 columns]"
      ]
     },
     "execution_count": 203,
     "metadata": {},
     "output_type": "execute_result"
    }
   ],
   "source": [
    "stockdf.head(3)"
   ]
  },
  {
   "cell_type": "code",
   "execution_count": 204,
   "metadata": {},
   "outputs": [
    {
     "data": {
      "text/html": [
       "<div>\n",
       "<style scoped>\n",
       "    .dataframe tbody tr th:only-of-type {\n",
       "        vertical-align: middle;\n",
       "    }\n",
       "\n",
       "    .dataframe tbody tr th {\n",
       "        vertical-align: top;\n",
       "    }\n",
       "\n",
       "    .dataframe thead th {\n",
       "        text-align: right;\n",
       "    }\n",
       "</style>\n",
       "<table border=\"1\" class=\"dataframe\">\n",
       "  <thead>\n",
       "    <tr style=\"text-align: right;\">\n",
       "      <th></th>\n",
       "      <th>Prev Close</th>\n",
       "      <th>Open</th>\n",
       "      <th>High</th>\n",
       "      <th>Low</th>\n",
       "      <th>Last</th>\n",
       "      <th>Close</th>\n",
       "      <th>VWAP</th>\n",
       "      <th>Volume</th>\n",
       "      <th>Deliverable Volume</th>\n",
       "      <th>%Deliverble</th>\n",
       "    </tr>\n",
       "  </thead>\n",
       "  <tbody>\n",
       "    <tr>\n",
       "      <th>count</th>\n",
       "      <td>2481.000000</td>\n",
       "      <td>2481.000000</td>\n",
       "      <td>2481.000000</td>\n",
       "      <td>2481.000000</td>\n",
       "      <td>2481.000000</td>\n",
       "      <td>2481.000000</td>\n",
       "      <td>2481.000000</td>\n",
       "      <td>2.481000e+03</td>\n",
       "      <td>2.481000e+03</td>\n",
       "      <td>2481.000000</td>\n",
       "    </tr>\n",
       "    <tr>\n",
       "      <th>mean</th>\n",
       "      <td>1253.764510</td>\n",
       "      <td>1254.476199</td>\n",
       "      <td>1270.538009</td>\n",
       "      <td>1237.069629</td>\n",
       "      <td>1252.673035</td>\n",
       "      <td>1252.953366</td>\n",
       "      <td>1254.053599</td>\n",
       "      <td>1.113081e+07</td>\n",
       "      <td>3.663065e+06</td>\n",
       "      <td>0.326997</td>\n",
       "    </tr>\n",
       "    <tr>\n",
       "      <th>std</th>\n",
       "      <td>1016.512222</td>\n",
       "      <td>1017.461172</td>\n",
       "      <td>1030.295346</td>\n",
       "      <td>1003.760629</td>\n",
       "      <td>1016.131037</td>\n",
       "      <td>1016.461550</td>\n",
       "      <td>1017.238975</td>\n",
       "      <td>1.372332e+07</td>\n",
       "      <td>4.835288e+06</td>\n",
       "      <td>0.101302</td>\n",
       "    </tr>\n",
       "    <tr>\n",
       "      <th>min</th>\n",
       "      <td>151.800000</td>\n",
       "      <td>155.000000</td>\n",
       "      <td>157.650000</td>\n",
       "      <td>148.250000</td>\n",
       "      <td>152.000000</td>\n",
       "      <td>151.800000</td>\n",
       "      <td>152.210000</td>\n",
       "      <td>8.841100e+04</td>\n",
       "      <td>1.799700e+04</td>\n",
       "      <td>0.084400</td>\n",
       "    </tr>\n",
       "    <tr>\n",
       "      <th>25%</th>\n",
       "      <td>273.000000</td>\n",
       "      <td>273.400000</td>\n",
       "      <td>276.550000</td>\n",
       "      <td>269.550000</td>\n",
       "      <td>273.000000</td>\n",
       "      <td>273.000000</td>\n",
       "      <td>272.870000</td>\n",
       "      <td>1.922217e+06</td>\n",
       "      <td>5.875300e+05</td>\n",
       "      <td>0.253300</td>\n",
       "    </tr>\n",
       "    <tr>\n",
       "      <th>50%</th>\n",
       "      <td>1500.550000</td>\n",
       "      <td>1499.900000</td>\n",
       "      <td>1515.000000</td>\n",
       "      <td>1471.100000</td>\n",
       "      <td>1496.900000</td>\n",
       "      <td>1497.850000</td>\n",
       "      <td>1498.270000</td>\n",
       "      <td>6.040815e+06</td>\n",
       "      <td>1.807521e+06</td>\n",
       "      <td>0.319500</td>\n",
       "    </tr>\n",
       "    <tr>\n",
       "      <th>75%</th>\n",
       "      <td>2212.300000</td>\n",
       "      <td>2210.000000</td>\n",
       "      <td>2239.650000</td>\n",
       "      <td>2176.100000</td>\n",
       "      <td>2208.200000</td>\n",
       "      <td>2210.550000</td>\n",
       "      <td>2211.140000</td>\n",
       "      <td>1.640838e+07</td>\n",
       "      <td>5.538257e+06</td>\n",
       "      <td>0.395000</td>\n",
       "    </tr>\n",
       "    <tr>\n",
       "      <th>max</th>\n",
       "      <td>3489.950000</td>\n",
       "      <td>3505.000000</td>\n",
       "      <td>3515.000000</td>\n",
       "      <td>3451.350000</td>\n",
       "      <td>3499.000000</td>\n",
       "      <td>3489.950000</td>\n",
       "      <td>3485.250000</td>\n",
       "      <td>2.626771e+08</td>\n",
       "      <td>1.333311e+08</td>\n",
       "      <td>0.716200</td>\n",
       "    </tr>\n",
       "  </tbody>\n",
       "</table>\n",
       "</div>"
      ],
      "text/plain": [
       "        Prev Close         Open  ...  Deliverable Volume  %Deliverble\n",
       "count  2481.000000  2481.000000  ...        2.481000e+03  2481.000000\n",
       "mean   1253.764510  1254.476199  ...        3.663065e+06     0.326997\n",
       "std    1016.512222  1017.461172  ...        4.835288e+06     0.101302\n",
       "min     151.800000   155.000000  ...        1.799700e+04     0.084400\n",
       "25%     273.000000   273.400000  ...        5.875300e+05     0.253300\n",
       "50%    1500.550000  1499.900000  ...        1.807521e+06     0.319500\n",
       "75%    2212.300000  2210.000000  ...        5.538257e+06     0.395000\n",
       "max    3489.950000  3505.000000  ...        1.333311e+08     0.716200\n",
       "\n",
       "[8 rows x 10 columns]"
      ]
     },
     "execution_count": 204,
     "metadata": {},
     "output_type": "execute_result"
    }
   ],
   "source": [
    "stockdf.describe() # result shows that the stock data is not adjusted for a 1:10 split"
   ]
  },
  {
   "cell_type": "code",
   "execution_count": 205,
   "metadata": {},
   "outputs": [],
   "source": [
    "#Adjusting stock closing prices for splits of 1:10\n",
    "stockdf['Close'] = stockdf['Close'].apply(lambda x:x/10 if x>1000 else x)"
   ]
  },
  {
   "cell_type": "code",
   "execution_count": 206,
   "metadata": {},
   "outputs": [],
   "source": [
    "# Forming a 2-d array of closing prices to be fed into RNN\n",
    "# We take the last 20 day prices in the test data (corresponding roughly to 1 calendar month)\n",
    "trend_test_days = 20\n",
    "training_set = stockdf.iloc[:len(stockdf)-trend_test_days,7:8].values"
   ]
  },
  {
   "cell_type": "code",
   "execution_count": 207,
   "metadata": {},
   "outputs": [
    {
     "data": {
      "text/plain": [
       "(array([[232.78 ],\n",
       "        [228.135],\n",
       "        [233.495],\n",
       "        ...,\n",
       "        [258.45 ],\n",
       "        [256.05 ],\n",
       "        [265.45 ]]), 2461)"
      ]
     },
     "execution_count": 207,
     "metadata": {},
     "output_type": "execute_result"
    }
   ],
   "source": [
    "training_set, len(training_set)"
   ]
  },
  {
   "cell_type": "code",
   "execution_count": 208,
   "metadata": {},
   "outputs": [],
   "source": [
    "# Using normalisation to scale data, as RNN uses distance between data points to train \n",
    "from sklearn.preprocessing import MinMaxScaler\n",
    "scaler = MinMaxScaler(feature_range = (0,1))\n",
    "training_set_scaled = scaler.fit_transform(training_set)"
   ]
  },
  {
   "cell_type": "code",
   "execution_count": 209,
   "metadata": {},
   "outputs": [],
   "source": [
    "# The recurrent neural network with long short term memory (LSTM) will use a timestep of 120 trading days as memory\n",
    "# Creating the data structure which preserves 120 days of memory\n",
    "X_train = [] #initiate training lists\n",
    "y_train = []\n",
    "memory_range = 120\n",
    "for i in range(memory_range, len(training_set_scaled)):\n",
    "    X_train.append(training_set_scaled[(i - memory_range):i,0])\n",
    "    y_train.append(training_set_scaled[i,0])\n",
    "\n",
    "#Convert the lists to numpy arrays\n",
    "X_train, y_train = np.array(X_train), np.array(y_train)"
   ]
  },
  {
   "cell_type": "code",
   "execution_count": 210,
   "metadata": {},
   "outputs": [
    {
     "data": {
      "text/plain": [
       "((2341, 120), (2341,))"
      ]
     },
     "execution_count": 210,
     "metadata": {},
     "output_type": "execute_result"
    }
   ],
   "source": [
    "X_train.shape, y_train.shape"
   ]
  },
  {
   "cell_type": "code",
   "execution_count": 211,
   "metadata": {},
   "outputs": [
    {
     "data": {
      "text/plain": [
       "(2341, 120, 1)"
      ]
     },
     "execution_count": 211,
     "metadata": {},
     "output_type": "execute_result"
    }
   ],
   "source": [
    "# reshape the x_train array to fit the shape expected by RNN algorithm\n",
    "X_train = np.reshape(X_train, (X_train.shape[0], X_train.shape[1], 1))\n",
    "X_train.shape"
   ]
  },
  {
   "cell_type": "code",
   "execution_count": 212,
   "metadata": {},
   "outputs": [],
   "source": [
    "# Importing the RNN libraries and classes\n",
    "from keras.models import Sequential\n",
    "from keras.layers import Dense\n",
    "from keras.layers import LSTM\n",
    "from keras.layers import Dropout"
   ]
  },
  {
   "cell_type": "code",
   "execution_count": 213,
   "metadata": {},
   "outputs": [],
   "source": [
    "#Initialise the regressor object of class Sequential\n",
    "regressor = Sequential()"
   ]
  },
  {
   "cell_type": "code",
   "execution_count": 214,
   "metadata": {},
   "outputs": [],
   "source": [
    "#Building the RNN architecture with dropout regularisation\n",
    "regressor.add(LSTM(units = 50, activation = 'tanh', return_sequences = True, input_shape = (X_train.shape[1],1)))\n",
    "regressor.add(Dropout(0.2))\n",
    "regressor.add(LSTM(units = 50, activation = 'tanh', return_sequences = True))\n",
    "regressor.add(Dropout(0.2))\n",
    "regressor.add(LSTM(units = 50, activation = 'tanh', return_sequences = True))\n",
    "regressor.add(Dropout(0.2))\n",
    "regressor.add(LSTM(units = 50, activation = 'tanh', return_sequences = False)) # last LSTM layer should have return sequence as False\n",
    "regressor.add(Dropout(0.2))\n",
    "#Adding the output layer\n",
    "regressor.add(Dense(units = 1))"
   ]
  },
  {
   "cell_type": "code",
   "execution_count": 215,
   "metadata": {},
   "outputs": [],
   "source": [
    "#Compile the recurrent neural network\n",
    "regressor.compile(optimizer = 'adam', loss = 'mean_squared_error')"
   ]
  },
  {
   "cell_type": "code",
   "execution_count": 216,
   "metadata": {},
   "outputs": [
    {
     "name": "stdout",
     "output_type": "stream",
     "text": [
      "Epoch 1/100\n",
      "2341/2341 [==============================] - 27s 11ms/step - loss: 0.0259\n",
      "Epoch 2/100\n",
      "2341/2341 [==============================] - 25s 11ms/step - loss: 0.0079\n",
      "Epoch 3/100\n",
      "2341/2341 [==============================] - 25s 11ms/step - loss: 0.0066\n",
      "Epoch 4/100\n",
      "2341/2341 [==============================] - 26s 11ms/step - loss: 0.0062\n",
      "Epoch 5/100\n",
      "2341/2341 [==============================] - 26s 11ms/step - loss: 0.0055\n",
      "Epoch 6/100\n",
      "2341/2341 [==============================] - 25s 11ms/step - loss: 0.0051\n",
      "Epoch 7/100\n",
      "2341/2341 [==============================] - 26s 11ms/step - loss: 0.0045\n",
      "Epoch 8/100\n",
      "2341/2341 [==============================] - 25s 11ms/step - loss: 0.0045\n",
      "Epoch 9/100\n",
      "2341/2341 [==============================] - 25s 11ms/step - loss: 0.0041\n",
      "Epoch 10/100\n",
      "2341/2341 [==============================] - 26s 11ms/step - loss: 0.0039\n",
      "Epoch 11/100\n",
      "2341/2341 [==============================] - 26s 11ms/step - loss: 0.0039\n",
      "Epoch 12/100\n",
      "2341/2341 [==============================] - 26s 11ms/step - loss: 0.0036\n",
      "Epoch 13/100\n",
      "2341/2341 [==============================] - 25s 11ms/step - loss: 0.0038\n",
      "Epoch 14/100\n",
      "2341/2341 [==============================] - 25s 11ms/step - loss: 0.0033\n",
      "Epoch 15/100\n",
      "2341/2341 [==============================] - 25s 11ms/step - loss: 0.0032\n",
      "Epoch 16/100\n",
      "2341/2341 [==============================] - 26s 11ms/step - loss: 0.0031\n",
      "Epoch 17/100\n",
      "2341/2341 [==============================] - 28s 12ms/step - loss: 0.0030\n",
      "Epoch 18/100\n",
      "2341/2341 [==============================] - 27s 12ms/step - loss: 0.0031\n",
      "Epoch 19/100\n",
      "2341/2341 [==============================] - 28s 12ms/step - loss: 0.0030\n",
      "Epoch 20/100\n",
      "2341/2341 [==============================] - 28s 12ms/step - loss: 0.0026\n",
      "Epoch 21/100\n",
      "2341/2341 [==============================] - 39s 17ms/step - loss: 0.0027\n",
      "Epoch 22/100\n",
      "2341/2341 [==============================] - 34s 15ms/step - loss: 0.0026\n",
      "Epoch 23/100\n",
      "2341/2341 [==============================] - 34s 15ms/step - loss: 0.0024\n",
      "Epoch 24/100\n",
      "2341/2341 [==============================] - 32s 14ms/step - loss: 0.0025\n",
      "Epoch 25/100\n",
      "2341/2341 [==============================] - 26s 11ms/step - loss: 0.0021\n",
      "Epoch 26/100\n",
      "2341/2341 [==============================] - 27s 11ms/step - loss: 0.0023\n",
      "Epoch 27/100\n",
      "2341/2341 [==============================] - 26s 11ms/step - loss: 0.0023\n",
      "Epoch 28/100\n",
      "2341/2341 [==============================] - 26s 11ms/step - loss: 0.0021\n",
      "Epoch 29/100\n",
      "2341/2341 [==============================] - 27s 11ms/step - loss: 0.0020\n",
      "Epoch 30/100\n",
      "2341/2341 [==============================] - 26s 11ms/step - loss: 0.0021\n",
      "Epoch 31/100\n",
      "2341/2341 [==============================] - 25s 11ms/step - loss: 0.0019\n",
      "Epoch 32/100\n",
      "2341/2341 [==============================] - 26s 11ms/step - loss: 0.0018\n",
      "Epoch 33/100\n",
      "2341/2341 [==============================] - 25s 11ms/step - loss: 0.0018\n",
      "Epoch 34/100\n",
      "2341/2341 [==============================] - 26s 11ms/step - loss: 0.0017\n",
      "Epoch 35/100\n",
      "2341/2341 [==============================] - 25s 11ms/step - loss: 0.0017\n",
      "Epoch 36/100\n",
      "2341/2341 [==============================] - 25s 11ms/step - loss: 0.0019\n",
      "Epoch 37/100\n",
      "2341/2341 [==============================] - 25s 11ms/step - loss: 0.0018\n",
      "Epoch 38/100\n",
      "2341/2341 [==============================] - 26s 11ms/step - loss: 0.0017\n",
      "Epoch 39/100\n",
      "2341/2341 [==============================] - 28s 12ms/step - loss: 0.0015\n",
      "Epoch 40/100\n",
      "2341/2341 [==============================] - 27s 12ms/step - loss: 0.0015\n",
      "Epoch 41/100\n",
      "2341/2341 [==============================] - 25s 11ms/step - loss: 0.0016\n",
      "Epoch 42/100\n",
      "2341/2341 [==============================] - 25s 11ms/step - loss: 0.0014\n",
      "Epoch 43/100\n",
      "2341/2341 [==============================] - 25s 11ms/step - loss: 0.0016\n",
      "Epoch 44/100\n",
      "2341/2341 [==============================] - 25s 11ms/step - loss: 0.0014\n",
      "Epoch 45/100\n",
      "2341/2341 [==============================] - 25s 11ms/step - loss: 0.0015\n",
      "Epoch 46/100\n",
      "2341/2341 [==============================] - 26s 11ms/step - loss: 0.0013\n",
      "Epoch 47/100\n",
      "2341/2341 [==============================] - 35s 15ms/step - loss: 0.0013\n",
      "Epoch 48/100\n",
      "2341/2341 [==============================] - 30s 13ms/step - loss: 0.0013\n",
      "Epoch 49/100\n",
      "2341/2341 [==============================] - 33s 14ms/step - loss: 0.0014\n",
      "Epoch 50/100\n",
      "2341/2341 [==============================] - 33s 14ms/step - loss: 0.0014\n",
      "Epoch 51/100\n",
      "2341/2341 [==============================] - 30s 13ms/step - loss: 0.0013\n",
      "Epoch 52/100\n",
      "2341/2341 [==============================] - 27s 12ms/step - loss: 0.0014\n",
      "Epoch 53/100\n",
      "2341/2341 [==============================] - 26s 11ms/step - loss: 0.0013\n",
      "Epoch 54/100\n",
      "2341/2341 [==============================] - 26s 11ms/step - loss: 0.0014\n",
      "Epoch 55/100\n",
      "2341/2341 [==============================] - 27s 12ms/step - loss: 0.0014\n",
      "Epoch 56/100\n",
      "2341/2341 [==============================] - 27s 11ms/step - loss: 0.0013\n",
      "Epoch 57/100\n",
      "2341/2341 [==============================] - 28s 12ms/step - loss: 0.0013\n",
      "Epoch 58/100\n",
      "2341/2341 [==============================] - 32s 14ms/step - loss: 0.0014\n",
      "Epoch 59/100\n",
      "2341/2341 [==============================] - 35s 15ms/step - loss: 0.0012\n",
      "Epoch 60/100\n",
      "2341/2341 [==============================] - 27s 12ms/step - loss: 0.0014\n",
      "Epoch 61/100\n",
      "2341/2341 [==============================] - 29s 12ms/step - loss: 0.0012\n",
      "Epoch 62/100\n",
      "2341/2341 [==============================] - 31s 13ms/step - loss: 0.0013\n",
      "Epoch 63/100\n",
      "2341/2341 [==============================] - 33s 14ms/step - loss: 0.0012\n",
      "Epoch 64/100\n",
      "2341/2341 [==============================] - 37s 16ms/step - loss: 0.0012\n",
      "Epoch 65/100\n",
      "2341/2341 [==============================] - 36s 15ms/step - loss: 0.0012\n",
      "Epoch 66/100\n",
      "2341/2341 [==============================] - 27s 11ms/step - loss: 0.0012\n",
      "Epoch 67/100\n",
      "2341/2341 [==============================] - 26s 11ms/step - loss: 0.0012\n",
      "Epoch 68/100\n",
      "2341/2341 [==============================] - 26s 11ms/step - loss: 0.0012\n",
      "Epoch 69/100\n",
      "2341/2341 [==============================] - 27s 12ms/step - loss: 0.0011\n",
      "Epoch 70/100\n",
      "2341/2341 [==============================] - 27s 11ms/step - loss: 0.0012\n",
      "Epoch 71/100\n",
      "2341/2341 [==============================] - 26s 11ms/step - loss: 0.0012\n",
      "Epoch 72/100\n",
      "2341/2341 [==============================] - 25s 10ms/step - loss: 0.0012\n",
      "Epoch 73/100\n",
      "2341/2341 [==============================] - 29s 12ms/step - loss: 0.0012\n",
      "Epoch 74/100\n",
      "2341/2341 [==============================] - 36s 16ms/step - loss: 0.0011\n",
      "Epoch 75/100\n",
      "2341/2341 [==============================] - 37s 16ms/step - loss: 0.0011\n",
      "Epoch 76/100\n",
      "2341/2341 [==============================] - 37s 16ms/step - loss: 0.0011\n",
      "Epoch 77/100\n",
      "2341/2341 [==============================] - 37s 16ms/step - loss: 0.0011\n",
      "Epoch 78/100\n",
      "2341/2341 [==============================] - 37s 16ms/step - loss: 0.0011\n",
      "Epoch 79/100\n",
      "2341/2341 [==============================] - 37s 16ms/step - loss: 0.0011\n",
      "Epoch 80/100\n",
      "2341/2341 [==============================] - 37s 16ms/step - loss: 0.0011\n",
      "Epoch 81/100\n",
      "2341/2341 [==============================] - 37s 16ms/step - loss: 0.0011\n",
      "Epoch 82/100\n",
      "2341/2341 [==============================] - 37s 16ms/step - loss: 0.0012\n",
      "Epoch 83/100\n",
      "2341/2341 [==============================] - 37s 16ms/step - loss: 0.0011\n",
      "Epoch 84/100\n",
      "2341/2341 [==============================] - 36s 16ms/step - loss: 0.0011\n",
      "Epoch 85/100\n",
      "2341/2341 [==============================] - 32s 14ms/step - loss: 0.0011\n",
      "Epoch 86/100\n",
      "2341/2341 [==============================] - 31s 13ms/step - loss: 0.0012\n",
      "Epoch 87/100\n",
      "2341/2341 [==============================] - 31s 13ms/step - loss: 0.0011\n",
      "Epoch 88/100\n",
      "2341/2341 [==============================] - 31s 13ms/step - loss: 0.0011\n",
      "Epoch 89/100\n",
      "2341/2341 [==============================] - 30s 13ms/step - loss: 0.0011\n",
      "Epoch 90/100\n",
      "2341/2341 [==============================] - 30s 13ms/step - loss: 0.0011\n",
      "Epoch 91/100\n",
      "2341/2341 [==============================] - 29s 12ms/step - loss: 0.0011\n",
      "Epoch 92/100\n",
      "2341/2341 [==============================] - 30s 13ms/step - loss: 0.0011\n",
      "Epoch 93/100\n",
      "2341/2341 [==============================] - 29s 12ms/step - loss: 0.0011\n",
      "Epoch 94/100\n",
      "2341/2341 [==============================] - 33s 14ms/step - loss: 0.0011\n",
      "Epoch 95/100\n"
     ]
    },
    {
     "name": "stdout",
     "output_type": "stream",
     "text": [
      "2341/2341 [==============================] - 32s 14ms/step - loss: 0.0011\n",
      "Epoch 96/100\n",
      "2341/2341 [==============================] - 30s 13ms/step - loss: 0.0011\n",
      "Epoch 97/100\n",
      "2341/2341 [==============================] - 29s 12ms/step - loss: 0.0010\n",
      "Epoch 98/100\n",
      "2341/2341 [==============================] - 29s 12ms/step - loss: 0.0012\n",
      "Epoch 99/100\n",
      "2341/2341 [==============================] - 28s 12ms/step - loss: 0.0011\n",
      "Epoch 100/100\n",
      "2341/2341 [==============================] - 28s 12ms/step - loss: 0.0011\n"
     ]
    },
    {
     "data": {
      "text/plain": [
       "<keras.callbacks.callbacks.History at 0x194b5f40e48>"
      ]
     },
     "execution_count": 216,
     "metadata": {},
     "output_type": "execute_result"
    }
   ],
   "source": [
    "#Fitting the RNN model on training data\n",
    "regressor.fit(X_train, y_train, batch_size = 32, epochs = 100)"
   ]
  },
  {
   "cell_type": "code",
   "execution_count": 217,
   "metadata": {},
   "outputs": [
    {
     "data": {
      "text/plain": [
       "(140, 1)"
      ]
     },
     "execution_count": 217,
     "metadata": {},
     "output_type": "execute_result"
    }
   ],
   "source": [
    "test_set = stockdf.iloc[len(stockdf) - memory_range - trend_test_days:,7:8].values\n",
    "test_set = scaler.transform(test_set)\n",
    "test_set.shape"
   ]
  },
  {
   "cell_type": "code",
   "execution_count": 218,
   "metadata": {},
   "outputs": [],
   "source": [
    "# preparing the test input data structure\n",
    "X_test = []\n",
    "for i in range(memory_range, memory_range + trend_test_days):\n",
    "    X_test.append(test_set[i - memory_range:i, 0])\n",
    "X_test = np.array(X_test)"
   ]
  },
  {
   "cell_type": "code",
   "execution_count": 219,
   "metadata": {},
   "outputs": [
    {
     "data": {
      "text/plain": [
       "(20, 120, 1)"
      ]
     },
     "execution_count": 219,
     "metadata": {},
     "output_type": "execute_result"
    }
   ],
   "source": [
    "X_test = np.reshape(X_test,(X_test.shape[0],X_test.shape[1],1))\n",
    "X_test.shape"
   ]
  },
  {
   "cell_type": "code",
   "execution_count": 220,
   "metadata": {},
   "outputs": [],
   "source": [
    "# Predict stock prices for the last 20 days\n",
    "predicted_stock_prices = regressor.predict(X_test)\n",
    "predicted_stock_prices = scaler.inverse_transform(predicted_stock_prices)"
   ]
  },
  {
   "cell_type": "code",
   "execution_count": 221,
   "metadata": {},
   "outputs": [
    {
     "data": {
      "text/plain": [
       "((20, 1), (20, 1))"
      ]
     },
     "execution_count": 221,
     "metadata": {},
     "output_type": "execute_result"
    }
   ],
   "source": [
    "# Get actual stock prices for comparison of trend prediction\n",
    "actual_stock_prices = stockdf.iloc[len(stockdf) - trend_test_days:,7:8].values\n",
    "actual_stock_prices.shape, predicted_stock_prices.shape"
   ]
  },
  {
   "cell_type": "code",
   "execution_count": 222,
   "metadata": {},
   "outputs": [],
   "source": [
    "# Get data in dataframe format with added accuracy measures\n",
    "final_stock_pred = pd.DataFrame(data = actual_stock_prices, columns = ['actual_stock_prices'])\n",
    "final_stock_pred = pd.concat((final_stock_pred, pd.DataFrame(data = predicted_stock_prices, columns = ['predicted_stock_prices'])), axis=1)"
   ]
  },
  {
   "cell_type": "code",
   "execution_count": 223,
   "metadata": {},
   "outputs": [
    {
     "name": "stderr",
     "output_type": "stream",
     "text": [
      "C:\\Users\\8pros\\Documents\\Anaconda\\lib\\site-packages\\ipykernel_launcher.py:5: SettingWithCopyWarning: \n",
      "A value is trying to be set on a copy of a slice from a DataFrame\n",
      "\n",
      "See the caveats in the documentation: http://pandas.pydata.org/pandas-docs/stable/indexing.html#indexing-view-versus-copy\n",
      "  \"\"\"\n",
      "C:\\Users\\8pros\\Documents\\Anaconda\\lib\\site-packages\\ipykernel_launcher.py:6: SettingWithCopyWarning: \n",
      "A value is trying to be set on a copy of a slice from a DataFrame\n",
      "\n",
      "See the caveats in the documentation: http://pandas.pydata.org/pandas-docs/stable/indexing.html#indexing-view-versus-copy\n",
      "  \n"
     ]
    }
   ],
   "source": [
    "final_stock_pred['actual_change'] = np.zeros(len(final_stock_pred))\n",
    "final_stock_pred['predicted_change'] = np.zeros(len(final_stock_pred)) \n",
    "\n",
    "for i in range(0,len(final_stock_pred)-1):\n",
    "    final_stock_pred['actual_change'][i+1] = ((final_stock_pred['actual_stock_prices'][i+1]) - (final_stock_pred['actual_stock_prices'][i]))/final_stock_pred['actual_stock_prices'].mean()\n",
    "    final_stock_pred['predicted_change'][i+1] = ((final_stock_pred['predicted_stock_prices'][i+1]) - (final_stock_pred['predicted_stock_prices'][i]))/final_stock_pred['predicted_stock_prices'].mean()\n",
    "    final_stock_pred['pred_accuracy'] = final_stock_pred['actual_change'] - final_stock_pred['predicted_change']\n",
    "\n",
    "final_stock_pred['actual_change'] = (final_stock_pred['actual_change']*100).round(2)\n",
    "final_stock_pred['predicted_change'] = (final_stock_pred['predicted_change']*100).round(2)\n",
    "final_stock_pred['pred_accuracy'] = (final_stock_pred['pred_accuracy']*100).round(2)"
   ]
  },
  {
   "cell_type": "code",
   "execution_count": 234,
   "metadata": {},
   "outputs": [
    {
     "name": "stdout",
     "output_type": "stream",
     "text": [
      "    actual_stock_prices  predicted_stock_prices  ...  pred_accuracy  %_price_diff\n",
      "0                269.65              264.215607  ...           0.00          1.81\n",
      "1                270.50              268.396118  ...          -1.13          0.70\n",
      "2                275.45              269.336731  ...           1.33          2.04\n",
      "3                262.50              274.375519  ...          -6.01         -3.96\n",
      "4                281.55              262.769135  ...          10.26          6.26\n",
      "5                281.80              280.961029  ...          -6.05          0.28\n",
      "6                280.65              281.139771  ...          -0.44         -0.16\n",
      "7                289.90              279.970551  ...           3.48          3.31\n",
      "8                312.40              289.351074  ...           4.34          7.68\n",
      "9                313.55              310.059570  ...          -6.60          1.16\n",
      "10               314.30              311.468079  ...          -0.22          0.94\n",
      "11               319.20              313.324951  ...           1.01          1.96\n",
      "12               317.55              318.802948  ...          -2.40         -0.42\n",
      "13               318.15              317.650574  ...           0.59          0.17\n",
      "14               316.00              318.428497  ...          -0.98         -0.81\n",
      "15               318.25              316.850830  ...           1.28          0.47\n",
      "16               306.80              318.884308  ...          -4.50         -4.03\n",
      "17               306.00              308.722961  ...           3.16         -0.91\n",
      "18               321.90              307.640198  ...           5.66          4.75\n",
      "19               325.10              322.145447  ...          -3.82          0.98\n",
      "\n",
      "[20 rows x 6 columns]\n",
      "Average Prediction Accuracy:  3.33 %\n",
      "Average Price Difference between Actual & Predicted:  2.25 %\n"
     ]
    }
   ],
   "source": [
    "final_stock_pred['%_price_diff'] = (((final_stock_pred['actual_stock_prices']-final_stock_pred['predicted_stock_prices'])/final_stock_pred['actual_stock_prices'].mean())*100).round(2)\n",
    "print(final_stock_pred)\n",
    "print('Average Prediction Accuracy: ',(final_stock_pred['pred_accuracy'].abs().sum()/(len(final_stock_pred)-1)).round(2),'%')\n",
    "print('Average Price Difference between Actual & Predicted: ',(final_stock_pred['%_price_diff'].abs().sum()/(len(final_stock_pred)-1)).round(2),'%')"
   ]
  },
  {
   "cell_type": "code",
   "execution_count": 235,
   "metadata": {},
   "outputs": [
    {
     "data": {
      "image/png": "[encoded data removed]",
      "text/plain": [
       "<Figure size 432x288 with 1 Axes>"
      ]
     },
     "metadata": {
      "needs_background": "light"
     },
     "output_type": "display_data"
    }
   ],
   "source": [
    "plt.plot(final_stock_pred['actual_stock_prices'], color = 'red', label = 'Actual Stock Price')\n",
    "plt.plot(final_stock_pred['predicted_stock_prices'], color = 'blue', label = 'Predicted Stock Price')\n",
    "plt.title('Stock Price Prediction / Stock Trend Prediction')\n",
    "plt.xlabel('Time Axis')\n",
    "plt.ylabel('Stock Price')\n",
    "plt.legend()\n",
    "plt.show()"
   ]
  },
  {
   "cell_type": "code",
   "execution_count": null,
   "metadata": {},
   "outputs": [],
   "source": []
  }
 ],
 "metadata": {
  "kernelspec": {
   "display_name": "Python 3",
   "language": "python",
   "name": "python3"
  },
  "language_info": {
   "codemirror_mode": {
    "name": "ipython",
    "version": 3
   },
   "file_extension": ".py",
   "mimetype": "text/x-python",
   "name": "python",
   "nbconvert_exporter": "python",
   "pygments_lexer": "ipython3",
   "version": "3.7.3"
  }
 },
 "nbformat": 4,
 "nbformat_minor": 2
}
